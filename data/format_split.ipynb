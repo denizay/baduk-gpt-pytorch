{
 "cells": [
  {
   "cell_type": "code",
   "execution_count": 1,
   "id": "2ad43c24-6776-408b-b044-8b48270690a1",
   "metadata": {},
   "outputs": [],
   "source": [
    "import re\n",
    "\n",
    "def keep_sgf_file(sgf: str) -> bool:\n",
    "    \"\"\"\n",
    "    Returns True if:\n",
    "    - Board size is 19x19 (SZ[19])\n",
    "    - AND either no HA tag or HA[0]\n",
    "    Otherwise, returns False.\n",
    "    \"\"\"\n",
    "    # Must be a 19x19 board\n",
    "    sz_match = re.search(r'SZ\\[(\\d+)\\]', sgf)\n",
    "    if not sz_match or sz_match.group(1) != '19':\n",
    "        return False\n",
    "\n",
    "    # Handicap condition\n",
    "    ha_match = re.search(r'HA\\[(\\d+)\\]', sgf)\n",
    "    if not ha_match:\n",
    "        return True  # No HA → keep\n",
    "    return ha_match.group(1) == '0'  # Keep only if HA[0]"
   ]
  },
  {
   "cell_type": "code",
   "execution_count": 3,
   "id": "15c510d7-3ddd-4d51-93fb-67efea0a360e",
   "metadata": {},
   "outputs": [],
   "source": [
    "def clean_sgf(sgf: str) -> str:\n",
    "    # Remove all whitespace characters\n",
    "    sgf = re.sub(r'\\s+', '', sgf)\n",
    "\n",
    "    # List of properties to remove\n",
    "    remove_props = ['AP', 'GN', 'DT', 'WR', 'BR', 'CA', 'RU', 'C', 'HA', 'T', 'TT', 'TTT']\n",
    "\n",
    "    # Remove each property (non-greedy, supports escaped brackets)\n",
    "    for prop in remove_props:\n",
    "        sgf = re.sub(rf'{prop}\\[(?:\\\\.|[^\\[\\]])*?\\]', '', sgf)\n",
    "\n",
    "    # Replace player names with standardized names\n",
    "    sgf = re.sub(r'PW\\[[^\\]]*\\]', 'PW[White]', sgf)\n",
    "    sgf = re.sub(r'PB\\[[^\\]]*\\]', 'PB[Black]', sgf)\n",
    "\n",
    "    # Clean up multiple semicolons or empty brackets\n",
    "    sgf = re.sub(r';{2,}', ';', sgf)\n",
    "    sgf = re.sub(r'\\[\\]', '', sgf)\n",
    "\n",
    "    return sgf"
   ]
  },
  {
   "cell_type": "code",
   "execution_count": 18,
   "id": "c2b4f668-45f7-49b4-89e5-ad6860617890",
   "metadata": {},
   "outputs": [],
   "source": [
    "import os\n",
    "import random\n",
    "from pathlib import Path\n",
    "\n",
    "def process_sgfs(input_folder: str, output_base: str = \".\"):\n",
    "    # Step 1: Find all SGF files recursively\n",
    "    sgf_files = list(Path(input_folder).rglob(\"*.sgf\"))\n",
    "    print(len(sgf_files))\n",
    "\n",
    "    # Step 2: Filter to only keep desired SGFs\n",
    "    keep_files = []\n",
    "    for fp in sgf_files:\n",
    "        with open(fp, \"r\", encoding=\"latin1\", errors=\"replace\") as f:\n",
    "            data = f.read()\n",
    "        if keep_sgf_file(data):\n",
    "            keep_files.append((fp, data))\n",
    "    print(len(keep_files))\n",
    "    \n",
    "\n",
    "    # Step 3: Shuffle and split\n",
    "    random.shuffle(keep_files)\n",
    "    split_idx = int(len(keep_files) * 0.98)\n",
    "    train_files = keep_files[:split_idx]\n",
    "    val_files = keep_files[split_idx:]\n",
    "\n",
    "    # Step 4: Write to train/ and val/\n",
    "    for subset_name, subset in [('train', train_files), ('val', val_files)]:\n",
    "        for original_path, sgf_data in subset:\n",
    "            cleaned = clean_sgf(sgf_data)\n",
    "            rel_path = Path(original_path).relative_to(input_folder)\n",
    "            new_path = Path(output_base) / subset_name / rel_path\n",
    "            os.makedirs(new_path.parent, exist_ok=True)\n",
    "            with open(new_path, \"w\") as f:\n",
    "                f.write(cleaned)\n",
    "\n",
    "    print(f\"Processed {len(train_files)} train and {len(val_files)} val SGFs.\")\n"
   ]
  },
  {
   "cell_type": "code",
   "execution_count": 19,
   "id": "674a8215-e6bb-4efb-848b-a13159d2e646",
   "metadata": {},
   "outputs": [
    {
     "name": "stdout",
     "output_type": "stream",
     "text": [
      "231973\n",
      "221213\n",
      "Processed 216788 train and 4425 val SGFs.\n"
     ]
    }
   ],
   "source": [
    "process_sgfs(\"./allsgfs\")"
   ]
  },
  {
   "cell_type": "code",
   "execution_count": null,
   "id": "f9a50f01-6e76-4897-af35-1859bfb6b6f8",
   "metadata": {},
   "outputs": [],
   "source": [
    "!"
   ]
  }
 ],
 "metadata": {
  "kernelspec": {
   "display_name": "Python3 (ipykernel)",
   "language": "python",
   "name": "python3"
  },
  "language_info": {
   "codemirror_mode": {
    "name": "ipython",
    "version": 3
   },
   "file_extension": ".py",
   "mimetype": "text/x-python",
   "name": "python",
   "nbconvert_exporter": "python",
   "pygments_lexer": "ipython3",
   "version": "3.12.3"
  }
 },
 "nbformat": 4,
 "nbformat_minor": 5
}
